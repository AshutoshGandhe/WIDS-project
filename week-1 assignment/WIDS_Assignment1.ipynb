{
 "cells": [
  {
   "cell_type": "code",
   "execution_count": null,
   "id": "abaceac4",
   "metadata": {},
   "outputs": [],
   "source": [
    "import yfinance as yf\n",
    "import pandas as pd\n",
    "from datetime import datetime, timedelta\n",
    "\n",
    "\n",
    "aapl_df = yf.download('AAPL', start='2018-12-23', end='2023-12-23', progress=False,)\n",
    "print(aapl_df.head())\n",
    "\n",
    "msft_df = yf.download('MSFT', start='2018-12-23', end='2023-12-23', progress=False,)\n",
    "print(msft_df.head())\n",
    "\n",
    "goog_df = yf.download('GOOGL', start='2018-12-23', end='2023-12-23', progress=False,)\n",
    "print(goog_df.head())\n",
    "\n",
    "amzn_df = yf.download('AMZN', start='2018-12-23', end='2023-12-23', progress=False,)\n",
    "print(amzn_df.head())\n",
    "\n",
    "\n",
    "file_path1 = 'C:/Ashutosh/UG_22-26/WIDS_2023/apple.csv'\n",
    "file_path2= 'C:/Ashutosh/UG_22-26/WIDS_2023/microsoft.csv'\n",
    "file_path3 = 'C:/Ashutosh/UG_22-26/WIDS_2023/google.csv'\n",
    "file_path4 = 'C:/Ashutosh/UG_22-26/WIDS_2023/amazon.csv'\n",
    "\n",
    "aapl_df.to_csv(file_path1, index = True)\n",
    "msft_df.to_csv(file_path2, index = True)\n",
    "goog_df.to_csv(file_path3, index = True)\n",
    "amzn_df.to_csv(file_path4, index = True)"
   ]
  },
  {
   "cell_type": "code",
   "execution_count": null,
   "id": "76969057",
   "metadata": {},
   "outputs": [],
   "source": []
  }
 ],
 "metadata": {
  "kernelspec": {
   "display_name": "Python 3 (ipykernel)",
   "language": "python",
   "name": "python3"
  },
  "language_info": {
   "codemirror_mode": {
    "name": "ipython",
    "version": 3
   },
   "file_extension": ".py",
   "mimetype": "text/x-python",
   "name": "python",
   "nbconvert_exporter": "python",
   "pygments_lexer": "ipython3",
   "version": "3.11.3"
  }
 },
 "nbformat": 4,
 "nbformat_minor": 5
}
